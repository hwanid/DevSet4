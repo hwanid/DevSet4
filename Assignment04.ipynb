{
  "nbformat": 4,
  "nbformat_minor": 0,
  "metadata": {
    "colab": {
      "name": "Assignment04.ipynb",
      "provenance": [],
      "authorship_tag": "ABX9TyPQgWRZ9OXO8fP8bN2fbzzX",
      "include_colab_link": true
    },
    "kernelspec": {
      "name": "python3",
      "display_name": "Python 3"
    }
  },
  "cells": [
    {
      "cell_type": "markdown",
      "metadata": {
        "id": "view-in-github",
        "colab_type": "text"
      },
      "source": [
        "<a href=\"https://colab.research.google.com/github/hwanid/DevSet4/blob/master/Assignment04.ipynb\" target=\"_parent\"><img src=\"https://colab.research.google.com/assets/colab-badge.svg\" alt=\"Open In Colab\"/></a>"
      ]
    },
    {
      "cell_type": "code",
      "metadata": {
        "id": "Dgap-ipnRj7D",
        "colab_type": "code",
        "colab": {}
      },
      "source": [
        "import numpy as np\n",
        "import matplotlib.pyplot as plt"
      ],
      "execution_count": 0,
      "outputs": []
    },
    {
      "cell_type": "code",
      "metadata": {
        "id": "7hJmYytVRqJX",
        "colab_type": "code",
        "colab": {}
      },
      "source": [
        "data_train = np.genfromtxt('data_train.csv', delimiter=',', dtype=np.str)\n",
        "data_test = np.genfromtxt('data_test.csv', delimiter=',', dtype=np.str)\n",
        "\n",
        "data_train = np.char.strip(data_train,'\"').astype(np.float128)\n",
        "data_test = np.char.strip(data_test,'\"').astype(np.float128)"
      ],
      "execution_count": 0,
      "outputs": []
    },
    {
      "cell_type": "code",
      "metadata": {
        "id": "3ROdQhbRRtIV",
        "colab_type": "code",
        "colab": {}
      },
      "source": [
        "x_train = data_train[:, :3]\n",
        "y_train = data_train[:, 3]\n",
        "\n",
        "x_test = data_test[:, :3]\n",
        "y_test = data_test[:, 3]\n",
        "\n",
        "n_samples = len(data_train)\n",
        "\n",
        "x_train = np.c_[np.ones((n_samples,1)), x_train]\n",
        "x_test = np.c_[np.ones((n_samples,1)), x_test]\n",
        "\n",
        "y_train = y_train.reshape(n_samples, 1)\n",
        "y_test = y_test.reshape(n_samples, 1)"
      ],
      "execution_count": 0,
      "outputs": []
    },
    {
      "cell_type": "code",
      "metadata": {
        "id": "QY8Jh2X3Rzsz",
        "colab_type": "code",
        "colab": {}
      },
      "source": [
        "m = n_samples\n",
        "learning_rate = 0.00001\n",
        "\n",
        "theta = np.array([[-1],[-1],[-1],[-1]])\n",
        "loss_train = []\n",
        "loss_test = []\n",
        "theta0 = []\n",
        "theta1 = []\n",
        "theta2 = []\n",
        "theta3 = []\n",
        "for i in range(30000):\n",
        "  theta0.append(theta[0][0])\n",
        "  theta1.append(theta[1][0])\n",
        "  theta2.append(theta[2][0])\n",
        "  theta3.append(theta[3][0])\n",
        "\n",
        "  gradients = 1/m * x_train.T.dot(x_train.dot(theta) - y_train)\n",
        "  theta_b = theta\n",
        "  theta = theta - learning_rate*gradients\n",
        "  \n",
        "  loss_t = np.sum(((x_train.dot(theta) - y_train)**2), axis=0) / (2*m)\n",
        "  loss_train.append(loss_t[0])\n",
        "\n",
        "  loss_t = np.sum(((x_test.dot(theta) - y_test)**2), axis=0) / (2*m)\n",
        "  loss_test.append(loss_t[0])\n",
        "  if abs(theta - theta_b).sum() == 0:\n",
        "    break\n",
        "\n",
        "learning_rate = 0.00002\n",
        "for i in range(10000):\n",
        "  theta0.append(theta[0][0])\n",
        "  theta1.append(theta[1][0])\n",
        "  theta2.append(theta[2][0])\n",
        "  theta3.append(theta[3][0])\n",
        "\n",
        "  gradients = 1/m * x_train.T.dot(x_train.dot(theta) - y_train)\n",
        "  theta_b = theta\n",
        "  theta = theta - learning_rate*gradients\n",
        "  \n",
        "  loss_t = np.sum(((x_train.dot(theta) - y_train)**2), axis=0) / (2*m)\n",
        "  loss_train.append(loss_t[0])\n",
        "\n",
        "  loss_t = np.sum(((x_test.dot(theta) - y_test)**2), axis=0) / (2*m)\n",
        "  loss_test.append(loss_t[0])\n",
        "  if abs(theta - theta_b).sum() < 0.000001:\n",
        "    break"
      ],
      "execution_count": 0,
      "outputs": []
    },
    {
      "cell_type": "code",
      "metadata": {
        "id": "O6Gtr6MOR6Wt",
        "colab_type": "code",
        "colab": {
          "base_uri": "https://localhost:8080/",
          "height": 483
        },
        "outputId": "159c1659-5864-46b0-b1d4-61f35e26c9ac"
      },
      "source": [
        "plt.figure(figsize=(8, 8))\n",
        "plt.plot(theta0, label='theta0', c='black')\n",
        "plt.plot(theta1, label='theta1', c='r')\n",
        "plt.plot(theta2, label='theta2', c='g')\n",
        "plt.plot(theta3, label='theta3', c='b')\n",
        "plt.legend()\n",
        "plt.show()"
      ],
      "execution_count": 6,
      "outputs": [
        {
          "output_type": "display_data",
          "data": {
            "image/png": "[encoded data removed]",
            "text/plain": [
              "<Figure size 576x576 with 1 Axes>"
            ]
          },
          "metadata": {
            "tags": [],
            "needs_background": "light"
          }
        }
      ]
    },
    {
      "cell_type": "code",
      "metadata": {
        "id": "_lbQsMsYR8oH",
        "colab_type": "code",
        "colab": {
          "base_uri": "https://localhost:8080/",
          "height": 483
        },
        "outputId": "3bb30102-8ebc-4b63-e4d7-1285275b1a9e"
      },
      "source": [
        "plt.figure(figsize=(8, 8))\n",
        "plt.plot(loss_train, label='loss')\n",
        "plt.legend()\n",
        "plt.show()"
      ],
      "execution_count": 7,
      "outputs": [
        {
          "output_type": "display_data",
          "data": {
            "image/png": "[encoded data removed]",
            "text/plain": [
              "<Figure size 576x576 with 1 Axes>"
            ]
          },
          "metadata": {
            "tags": [],
            "needs_background": "light"
          }
        }
      ]
    },
    {
      "cell_type": "code",
      "metadata": {
        "id": "sjU5bGV4SKja",
        "colab_type": "code",
        "colab": {}
      },
      "source": [
        ""
      ],
      "execution_count": 0,
      "outputs": []
    }
  ]
}