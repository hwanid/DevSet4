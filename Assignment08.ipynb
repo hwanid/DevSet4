{
  "nbformat": 4,
  "nbformat_minor": 0,
  "metadata": {
    "colab": {
      "name": "Assignment08.ipynb",
      "provenance": [],
      "collapsed_sections": [],
      "authorship_tag": "ABX9TyOUHjaxCipkLnJ+BSjY4uUy",
      "include_colab_link": true
    },
    "kernelspec": {
      "name": "python3",
      "display_name": "Python 3"
    }
  },
  "cells": [
    {
      "cell_type": "markdown",
      "metadata": {
        "id": "view-in-github",
        "colab_type": "text"
      },
      "source": [
        "<a href=\"https://colab.research.google.com/github/hwanid/DevSet4/blob/master/Assignment08.ipynb\" target=\"_parent\"><img src=\"https://colab.research.google.com/assets/colab-badge.svg\" alt=\"Open In Colab\"/></a>"
      ]
    },
    {
      "cell_type": "code",
      "metadata": {
        "id": "E5TNQvTF5cb5",
        "colab_type": "code",
        "colab": {}
      },
      "source": [
        "import numpy as np\n",
        "\n",
        "csv_data = np.genfromtxt(\"mnist_test.csv\", delimiter=',')\n",
        "\n",
        "label = csv_data[:,0]\n",
        "\n",
        "image_data = csv_data[:, 1:]"
      ],
      "execution_count": 0,
      "outputs": []
    },
    {
      "cell_type": "code",
      "metadata": {
        "id": "Uu8j4IlFBrOP",
        "colab_type": "code",
        "colab": {}
      },
      "source": [
        "data = []\n",
        "image_average = []\n",
        "for i in range(10):\n",
        "  data .append(image_data[np.where(label==i)])\n",
        "  image_average.append(np.mean(data[i], axis=0))"
      ],
      "execution_count": 0,
      "outputs": []
    },
    {
      "cell_type": "code",
      "metadata": {
        "id": "M-J7LRtnGkdc",
        "colab_type": "code",
        "colab": {}
      },
      "source": [
        "theta = np.random.normal(0, 1, size_row * size_col)"
      ],
      "execution_count": 0,
      "outputs": []
    },
    {
      "cell_type": "code",
      "metadata": {
        "id": "lnWgzocZHN_y",
        "colab_type": "code",
        "colab": {}
      },
      "source": [
        "def sigmoid(x):\n",
        "  output = 1 / (1 + np.exp(-x))\n",
        "  return output"
      ],
      "execution_count": 0,
      "outputs": []
    },
    {
      "cell_type": "code",
      "metadata": {
        "id": "kKaL3ssZG5pW",
        "colab_type": "code",
        "colab": {
          "base_uri": "https://localhost:8080/",
          "height": 53
        },
        "outputId": "3d68237a-aabf-4a1f-9481-46baa8e9c1bb"
      },
      "source": [
        "forward_average = []\n",
        "for i in range(10):\n",
        "  forward_average.append(np.mean(sigmoid(np.dot(data[i], theta))))"
      ],
      "execution_count": 83,
      "outputs": [
        {
          "output_type": "stream",
          "text": [
            "/usr/local/lib/python3.6/dist-packages/ipykernel_launcher.py:2: RuntimeWarning: overflow encountered in exp\n",
            "  \n"
          ],
          "name": "stderr"
        }
      ]
    },
    {
      "cell_type": "code",
      "metadata": {
        "id": "9dJ0Q20XH8sf",
        "colab_type": "code",
        "colab": {
          "base_uri": "https://localhost:8080/",
          "height": 197
        },
        "outputId": "c552371b-2cbb-4b25-dbfa-fca949bb7d4c"
      },
      "source": [
        "for i  in range(10):\n",
        "  print(i, \" : \", forward_average[i])"
      ],
      "execution_count": 88,
      "outputs": [
        {
          "output_type": "stream",
          "text": [
            "0  :  0.11318018922308594\n",
            "1  :  0.911434579071009\n",
            "2  :  0.4891739379993865\n",
            "3  :  0.37856467506324115\n",
            "4  :  0.3136371275241909\n",
            "5  :  0.33641546744506146\n",
            "6  :  0.722222445350837\n",
            "7  :  0.2935762929736315\n",
            "8  :  0.4315827891571699\n",
            "9  :  0.19930362277381744\n"
          ],
          "name": "stdout"
        }
      ]
    },
    {
      "cell_type": "code",
      "metadata": {
        "id": "LoVdBoqGAXcV",
        "colab_type": "code",
        "colab": {
          "base_uri": "https://localhost:8080/",
          "height": 211
        },
        "outputId": "1ead5593-c81d-4b12-ded4-54e1f5ad8f35"
      },
      "source": [
        "size_row    = 28    # height of the image\n",
        "size_col    = 28    # width of the image\n",
        "\n",
        "for i in range(10):\n",
        "\n",
        "  image = image_average[i].reshape(size_row, size_col)\n",
        "  plt.subplot(2, 5, i+1)\n",
        "  plt.imshow(image, cmap='Greys', interpolation='None')\n",
        "\n",
        "  frame   = plt.gca()\n",
        "  frame.axes.get_xaxis().set_visible(False)\n",
        "  frame.axes.get_yaxis().set_visible(False)"
      ],
      "execution_count": 54,
      "outputs": [
        {
          "output_type": "display_data",
          "data": {
            "image/png": "[encoded data removed]",
            "text/plain": [
              "<Figure size 432x288 with 10 Axes>"
            ]
          },
          "metadata": {
            "tags": [],
            "needs_background": "light"
          }
        }
      ]
    },
    {
      "cell_type": "code",
      "metadata": {
        "id": "wEJKHYDnAlH9",
        "colab_type": "code",
        "colab": {}
      },
      "source": [
        ""
      ],
      "execution_count": 0,
      "outputs": []
    }
  ]
}