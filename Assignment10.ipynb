{
  "nbformat": 4,
  "nbformat_minor": 0,
  "metadata": {
    "colab": {
      "name": "Assignment10.ipynb",
      "provenance": [],
      "collapsed_sections": [],
      "authorship_tag": "ABX9TyODx47Rrd+5lX8z+ybtushN",
      "include_colab_link": true
    },
    "kernelspec": {
      "name": "python3",
      "display_name": "Python 3"
    }
  },
  "cells": [
    {
      "cell_type": "markdown",
      "metadata": {
        "id": "view-in-github",
        "colab_type": "text"
      },
      "source": [
        "<a href=\"https://colab.research.google.com/github/hwanid/DevSet4/blob/master/Assignment10.ipynb\" target=\"_parent\"><img src=\"https://colab.research.google.com/assets/colab-badge.svg\" alt=\"Open In Colab\"/></a>"
      ]
    },
    {
      "cell_type": "code",
      "metadata": {
        "id": "S5vsSr_57VyV",
        "colab_type": "code",
        "colab": {}
      },
      "source": [
        "import warnings\n",
        "warnings.filterwarnings(\"ignore\")\n",
        "import numpy as np\n",
        "import matplotlib.pyplot as plt\n",
        "\n",
        "size_row    = 28    # height of the image\n",
        "size_col    = 28    # width of the image\n",
        "\n",
        "csv_data = np.genfromtxt(\"mnist.csv\", delimiter=',')\n",
        "\n",
        "label = csv_data[:,0]\n",
        "\n",
        "image_data = csv_data[:, 1:]"
      ],
      "execution_count": 0,
      "outputs": []
    },
    {
      "cell_type": "code",
      "metadata": {
        "id": "uQAVCbIZ8aWq",
        "colab_type": "code",
        "colab": {}
      },
      "source": [
        "train_label = label[0:1000]\n",
        "train_image = image_data[0:1000]\n",
        "\n",
        "test_label = label[1000:]\n",
        "test_image = image_data[1000:]"
      ],
      "execution_count": 0,
      "outputs": []
    },
    {
      "cell_type": "code",
      "metadata": {
        "id": "XD8CpWcG_nDF",
        "colab_type": "code",
        "colab": {}
      },
      "source": [
        "def init_theta(input_layer, output_layer):\n",
        "  return np.random.randn(input_layer, output_layer)\n",
        "\n",
        "def sigmoid(x):\n",
        "  output = 1 / (1 + np.exp(-x))\n",
        "  return output"
      ],
      "execution_count": 0,
      "outputs": []
    },
    {
      "cell_type": "code",
      "metadata": {
        "id": "OPvgilPVBNSI",
        "colab_type": "code",
        "colab": {}
      },
      "source": [
        "class NN:\n",
        "  def __init__(self, train_data, train_label, test_data, test_label):\n",
        "\n",
        "    self.theta = []\n",
        "    self.theta.append(init_theta(784, 196))\n",
        "    self.theta.append(init_theta(196, 49))\n",
        "    self.theta.append(init_theta(49, 10))\n",
        "\n",
        "    self.train_data = train_data\n",
        "    self.test_data = test_data\n",
        "\n",
        "    num = np.unique(train_label)\n",
        "    num = num.shape[0]\n",
        "\n",
        "    train_label_enc = np.eye(num)[train_label.astype(int).tolist()]\n",
        "\n",
        "    num = np.unique(test_label)\n",
        "    num = num.shape[0]\n",
        "\n",
        "    test_label_enc = np.eye(num)[test_label.astype(int).tolist()]\n",
        "\n",
        "    self.train_label_int = train_label\n",
        "    self.train_label = train_label_enc\n",
        "\n",
        "    self.test_label_int = test_label\n",
        "    self.test_label = test_label_enc\n",
        "\n",
        "\n",
        "    self.m = train_data.shape[0]\n",
        "    self.layer_len = len(self.theta)\n",
        "\n",
        "    self.layers = []\n",
        "    self.train_loss = []\n",
        "    self.train_acc = []\n",
        "    self.test_loss = []\n",
        "    self.test_acc = []\n",
        "\n",
        "    self.lda = 0\n",
        "    self.learning_rate = 1\n",
        "\n",
        "  def forward(self):\n",
        "\n",
        "    self.layers = []\n",
        "\n",
        "    for i in range(self.layer_len):\n",
        "      if i == 0:\n",
        "        self.layers.append(sigmoid(np.dot(self.train_data, self.theta[0])))\n",
        "      else:\n",
        "        self.layers.append(sigmoid(np.dot(self.layers[i-1], self.theta[i])))\n",
        "\n",
        "    out = self.layers[-1]\n",
        "    self.train_loss.append(self.loss_func(self.train_label, out))\n",
        "    self.train_acc.append(np.mean(np.argmax(out, axis=1) == self.train_label_int))\n",
        "\n",
        "  def backward(self):\n",
        "\n",
        "    layer_len = len(self.layers)\n",
        "    backprop = []\n",
        "\n",
        "    for i in range(layer_len - 1):\n",
        "      i = - (i + 1)\n",
        "\n",
        "      if i == -1:\n",
        "        backward_a = (self.layers[i] - self.train_label) / self.m\n",
        "        backprop.append(np.dot(self.layers[i-1].T, backward_a))\n",
        "\n",
        "      else:\n",
        "        backward_a = np.multiply(np.dot(backward_a, self.theta[i + 1].T),\n",
        "                                 (self.layers[i] * (1 - self.layers[i])))\n",
        "        backprop.insert(0, np.dot(self.layers[i-1].T, backward_a))\n",
        "    \n",
        "    backward_a = np.multiply(np.dot(backward_a, self.theta[1].T),\n",
        "                             self.layers[0] * (1 - self.layers[0]))\n",
        "    backprop.insert(0, np.dot(self.train_data.T, backward_a))\n",
        "\n",
        "    for i in range(layer_len):\n",
        "      self.theta[i] -= self.learning_rate * self.lda * self.theta[i] + self.learning_rate * backprop[i]\n",
        "\n",
        "      self.layers[i]\n",
        "\n",
        "  def eval(self):\n",
        "\n",
        "    for i in range(self.layer_len):\n",
        "      if i == 0:\n",
        "        out = sigmoid(np.dot(self.test_data, self.theta[0]))\n",
        "      else:\n",
        "        out = sigmoid(np.dot(out, self.theta[i]))\n",
        "    \n",
        "    self.output = out\n",
        "    self.test_loss.append(self.loss_func(self.test_label, out))\n",
        "    self.test_acc.append(np.mean(np.argmax(out, axis=1) == self.test_label_int))\n",
        "\n",
        "\n",
        "  def loss_func(self, y, pred_y):\n",
        "\n",
        "    epsilon = 1e-14\n",
        "\n",
        "    loss = -y * np.log(pred_y + epsilon) - (1 - y) * np.log(1 - y + epsilon)\n",
        "    \n",
        "    s = 0\n",
        "    n = 0\n",
        "    for i in range(self.layer_len):\n",
        "      s += np.sum(self.theta[i]**2)\n",
        "      n += self.theta[i].shape[0] * self.theta[i].shape[1]\n",
        "    \n",
        "    reg = s / (2 * n)\n",
        "\n",
        "    loss = np.mean(loss) + self.lda * reg\n",
        "\n",
        "    return loss"
      ],
      "execution_count": 0,
      "outputs": []
    },
    {
      "cell_type": "code",
      "metadata": {
        "id": "CPN6GoZ3IT2S",
        "colab_type": "code",
        "colab": {}
      },
      "source": [
        "model = NN(train_image, train_label, test_image, test_label)\n",
        "\n",
        "model.learning_rate = 0.8\n",
        "model.lda = 0.002\n",
        "for i in range(1000):\n",
        "\n",
        "  model.forward()\n",
        "  model.backward()\n",
        "  model.eval()"
      ],
      "execution_count": 0,
      "outputs": []
    },
    {
      "cell_type": "markdown",
      "metadata": {
        "id": "Q0iEtv8oKKMC",
        "colab_type": "text"
      },
      "source": [
        "Plot the loss curve"
      ]
    },
    {
      "cell_type": "code",
      "metadata": {
        "id": "B4e6kfLtKM6Z",
        "colab_type": "code",
        "colab": {
          "base_uri": "https://localhost:8080/",
          "height": 285
        },
        "outputId": "f998b6f1-15f0-4722-c36f-1fd3e45c279b"
      },
      "source": [
        "plt.plot(model.train_loss[1:], c='blue')\n",
        "plt.plot(model.test_loss[1:], c='red')"
      ],
      "execution_count": 8,
      "outputs": [
        {
          "output_type": "execute_result",
          "data": {
            "text/plain": [
              "[<matplotlib.lines.Line2D at 0x7fa14da1add8>]"
            ]
          },
          "metadata": {
            "tags": []
          },
          "execution_count": 8
        },
        {
          "output_type": "display_data",
          "data": {
            "image/png": "[encoded data removed]",
            "text/plain": [
              "<Figure size 432x288 with 1 Axes>"
            ]
          },
          "metadata": {
            "tags": [],
            "needs_background": "light"
          }
        }
      ]
    },
    {
      "cell_type": "markdown",
      "metadata": {
        "id": "EeVLbSLoKfg-",
        "colab_type": "text"
      },
      "source": [
        "Plot the accuracy curve"
      ]
    },
    {
      "cell_type": "code",
      "metadata": {
        "id": "ekB9WB1HyYHN",
        "colab_type": "code",
        "colab": {
          "base_uri": "https://localhost:8080/",
          "height": 283
        },
        "outputId": "0a4e9de9-4e4d-41e6-9217-ab9305784514"
      },
      "source": [
        "plt.plot(model.train_acc[1:], c='blue')\n",
        "plt.plot(model.test_acc[1:], c='red')"
      ],
      "execution_count": 9,
      "outputs": [
        {
          "output_type": "execute_result",
          "data": {
            "text/plain": [
              "[<matplotlib.lines.Line2D at 0x7fa13d55e6a0>]"
            ]
          },
          "metadata": {
            "tags": []
          },
          "execution_count": 9
        },
        {
          "output_type": "display_data",
          "data": {
            "image/png": "[encoded data removed]",
            "text/plain": [
              "<Figure size 432x288 with 1 Axes>"
            ]
          },
          "metadata": {
            "tags": [],
            "needs_background": "light"
          }
        }
      ]
    },
    {
      "cell_type": "markdown",
      "metadata": {
        "id": "WFOvGwj-KtAE",
        "colab_type": "text"
      },
      "source": [
        "Final accuracy value"
      ]
    },
    {
      "cell_type": "code",
      "metadata": {
        "id": "xt5MvHZGKw5U",
        "colab_type": "code",
        "colab": {
          "base_uri": "https://localhost:8080/",
          "height": 53
        },
        "outputId": "a04adaa9-1e71-48cf-b25f-93e1fe90c995"
      },
      "source": [
        "print('train >> ', model.train_acc[-1] * 100)\n",
        "print('test  >> ', model.test_acc[-1] * 100)"
      ],
      "execution_count": 10,
      "outputs": [
        {
          "output_type": "stream",
          "text": [
            "train >>  99.3\n",
            "test  >>  82.77777777777777\n"
          ],
          "name": "stdout"
        }
      ]
    },
    {
      "cell_type": "code",
      "metadata": {
        "id": "ZvoeNhIyoMUu",
        "colab_type": "code",
        "colab": {}
      },
      "source": [
        "result = (np.argmax(model.output, axis=1) == test_label)\n",
        "pred = np.argmax(model.output, axis=1)\n",
        "correct = np.where(result == True)\n",
        "wrong = np.where(result == False)"
      ],
      "execution_count": 0,
      "outputs": []
    },
    {
      "cell_type": "markdown",
      "metadata": {
        "id": "HH6W7P2zqV4H",
        "colab_type": "text"
      },
      "source": [
        "Plot the classification example"
      ]
    },
    {
      "cell_type": "code",
      "metadata": {
        "id": "e1pvPqbgode7",
        "colab_type": "code",
        "colab": {
          "base_uri": "https://localhost:8080/",
          "height": 227
        },
        "outputId": "3921af25-cb0c-406f-96ab-4a0dd3622a39"
      },
      "source": [
        "for i in range(10):\n",
        "\n",
        "    plt.subplot(2, 5, i+1)\n",
        "    plt.title(int(pred[correct[0][i]]))\n",
        "    plt.imshow(test_image[correct[0][i]].reshape((size_row, size_col)), cmap='Greys', interpolation='None')\n",
        "\n",
        "    frame   = plt.gca()\n",
        "    frame.axes.get_xaxis().set_visible(False)\n",
        "    frame.axes.get_yaxis().set_visible(False)"
      ],
      "execution_count": 33,
      "outputs": [
        {
          "output_type": "display_data",
          "data": {
            "image/png": "[encoded data removed]",
            "text/plain": [
              "<Figure size 432x288 with 10 Axes>"
            ]
          },
          "metadata": {
            "tags": [],
            "needs_background": "light"
          }
        }
      ]
    },
    {
      "cell_type": "code",
      "metadata": {
        "id": "BuBXVppEpZ20",
        "colab_type": "code",
        "colab": {
          "base_uri": "https://localhost:8080/",
          "height": 227
        },
        "outputId": "824fd066-f175-4d3d-e48a-152240681bd7"
      },
      "source": [
        "for i in range(10):\n",
        "\n",
        "    plt.subplot(2, 5, i+1)\n",
        "    plt.title(int(pred[wrong[0][i]]))\n",
        "    plt.imshow(test_image[wrong[0][i]].reshape((size_row, size_col)), cmap='Greys', interpolation='None')\n",
        "\n",
        "    frame   = plt.gca()\n",
        "    frame.axes.get_xaxis().set_visible(False)\n",
        "    frame.axes.get_yaxis().set_visible(False)"
      ],
      "execution_count": 34,
      "outputs": [
        {
          "output_type": "display_data",
          "data": {
            "image/png": "[encoded data removed]",
            "text/plain": [
              "<Figure size 432x288 with 10 Axes>"
            ]
          },
          "metadata": {
            "tags": [],
            "needs_background": "light"
          }
        }
      ]
    }
  ]
}